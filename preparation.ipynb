{
 "cells": [
  {
   "attachments": {},
   "cell_type": "markdown",
   "id": "79debb7d",
   "metadata": {},
   "source": [
    "##### フォルダ（ディレクトリ）の作成\n",
    "- 各プログラムの実行結果（学習済みモデルファイルなど）の保存先フォルダを作成します（プログラム実行前に予め作成しておく必要があります）．\n",
    "- すでにフォルダが存在する場合は，コマンドは自動的に無視されます．"
   ]
  },
  {
   "cell_type": "code",
   "execution_count": null,
   "id": "471e4023",
   "metadata": {},
   "outputs": [],
   "source": [
    "# MLP_sample.ipynb 実行用 \n",
    "!mkdir -p MLP_models\n",
    "\n",
    "# CNN_sample.ipynb 実行用\n",
    "!mkdir -p CNN_models\n",
    "\n",
    "# AE_sample_MNIST.ipynb 実行用\n",
    "!mkdir -p AE_models_MNIST\n",
    "\n",
    "# AE_sample_Face.ipynb 実行用\n",
    "!mkdir -p AE_models_Face\n",
    "\n",
    "# GAN_sample.ipynb 実行用\n",
    "!mkdir -p GAN_models\n",
    "\n",
    "# CVAE_sample.ipynb 実行用\n",
    "!mkdir -p CVAE_models\n",
    "\n",
    "# CGAN_sample.ipynb 実行用\n",
    "!mkdir -p CGAN_models\n",
    "\n",
    "# TL_sample.ipynb 実行用\n",
    "!mkdir -p TL_models\n",
    "\n",
    "# attention_sample.ipynb 実行用\n",
    "!mkdir -p Att_models\n",
    "\n",
    "# ViT_sample.ipynb 実行用\n",
    "!mkdir -p ViT_models\n",
    "\n",
    "# defacto_sample.ipynb 実行用\n",
    "!mkdir -p defacto_models\n",
    "\n",
    "# FakeFaces_sample.ipynb 実行用\n",
    "!mkdir -p FakeFaces_models"
   ]
  },
  {
   "attachments": {},
   "cell_type": "markdown",
   "id": "99e7d6f5",
   "metadata": {},
   "source": [
    "##### 手書き数字文字画像データセットMNIST (MNIST.tar.gz) のダウンロード・解凍"
   ]
  },
  {
   "cell_type": "code",
   "execution_count": null,
   "id": "9d4856a5-bdbd-4606-a38b-facec10507db",
   "metadata": {
    "execution": {
     "iopub.execute_input": "2023-03-29T03:42:55.540660Z",
     "iopub.status.busy": "2023-03-29T03:42:55.540316Z",
     "iopub.status.idle": "2023-03-29T03:43:43.355445Z",
     "shell.execute_reply": "2023-03-29T03:43:43.354530Z",
     "shell.execute_reply.started": "2023-03-29T03:42:55.540633Z"
    }
   },
   "outputs": [],
   "source": [
    "import os\n",
    "\n",
    "if not os.path.isdir('MNIST'):\n",
    "    if not os.path.isfile('MNIST.tar.gz'):\n",
    "        !wget \"https://tus.box.com/shared/static/fw863hy0036j1mfc5o7divluj0lg12j1.gz\" -O MNIST.tar.gz\n",
    "    !tar -xzvf MNIST.tar.gz\n",
    "    !rm MNIST.tar.gz"
   ]
  },
  {
   "attachments": {},
   "cell_type": "markdown",
   "id": "e92b73ef",
   "metadata": {},
   "source": [
    "##### MNISTの削除（必要に応じて）"
   ]
  },
  {
   "cell_type": "code",
   "execution_count": null,
   "id": "36ad9817",
   "metadata": {},
   "outputs": [],
   "source": [
    "import os\n",
    "\n",
    "if os.path.isdir('MNIST'):\n",
    "    !rm -fr MNIST"
   ]
  },
  {
   "attachments": {},
   "cell_type": "markdown",
   "id": "bb2f6fd8",
   "metadata": {},
   "source": [
    "##### 文字色つきMNIST (ColoredMNIST.tar.gz) のダウンロード・解凍\n",
    "- サンプルコードでは使用しません（興味のある人向け）．"
   ]
  },
  {
   "cell_type": "code",
   "execution_count": null,
   "id": "e2b0604c",
   "metadata": {},
   "outputs": [],
   "source": [
    "import os\n",
    "\n",
    "if not os.path.isdir('ColoredMNIST'):\n",
    "    if not os.path.isfile('ColoredMNIST.tar.gz'):\n",
    "        !wget \"https://tus.box.com/shared/static/pgrxbgpokpgawidu16u4qc5wi3zdupjh.gz\" -O ColoredMNIST.tar.gz\n",
    "    !tar -xzvf ColoredMNIST.tar.gz\n",
    "    !rm ColoredMNIST.tar.gz"
   ]
  },
  {
   "attachments": {},
   "cell_type": "markdown",
   "id": "8c1edc94",
   "metadata": {},
   "source": [
    "##### 文字色付きMNISTの削除（必要に応じて）"
   ]
  },
  {
   "cell_type": "code",
   "execution_count": null,
   "id": "6541bcff",
   "metadata": {},
   "outputs": [],
   "source": [
    "import os\n",
    "\n",
    "if os.path.isdir('ColoredMNIST'):\n",
    "    !rm -fr ColoredMNIST"
   ]
  },
  {
   "attachments": {},
   "cell_type": "markdown",
   "id": "5c85675b",
   "metadata": {},
   "source": [
    "##### 顔画像データセット CelebA (tinyCelebA.tar.gz) のダウンロード・解凍\n",
    "- これは本来の CelebA ではなく，その中から10%弱の画像をランダムに抜き出した簡易版です．"
   ]
  },
  {
   "cell_type": "code",
   "execution_count": null,
   "id": "31dc1d46",
   "metadata": {},
   "outputs": [],
   "source": [
    "import os\n",
    "\n",
    "if not os.path.isdir('tinyCelebA'):\n",
    "    if not os.path.isfile('tinyCelebA.tar.gz'):\n",
    "        !wget \"https://tus.box.com/shared/static/hakdfm2w9rhrl7u0ogt1x0ombevlr5hb.gz\" -O tinyCelebA.tar.gz\n",
    "    !tar -xzvf tinyCelebA.tar.gz\n",
    "    !rm tinyCelebA.tar.gz"
   ]
  },
  {
   "attachments": {},
   "cell_type": "markdown",
   "id": "b31b3496",
   "metadata": {},
   "source": [
    "##### 簡易版 CelebA の削除（必要に応じて）"
   ]
  },
  {
   "cell_type": "code",
   "execution_count": null,
   "id": "3fa63bff",
   "metadata": {},
   "outputs": [],
   "source": [
    "import os\n",
    "\n",
    "if os.path.isdir('tinyCelebA'):\n",
    "    !rm -fr tinyCelebA"
   ]
  },
  {
   "attachments": {},
   "cell_type": "markdown",
   "id": "57d8dcaa",
   "metadata": {},
   "source": [
    "##### 本来の CelebA (fullCelebA.tar.gz) のダウンロード・解凍\n",
    "- サンプルコードでは使用しません（興味のある人向け）．\n",
    "- ファイルサイズが大きいので，不必要ならダウンロードしないほうが良いです．"
   ]
  },
  {
   "cell_type": "code",
   "execution_count": null,
   "id": "d7344679",
   "metadata": {},
   "outputs": [],
   "source": [
    "import os\n",
    "\n",
    "if not os.path.isdir('fullCelebA'):\n",
    "    if not os.path.isfile('fullCelebA.tar.gz'):\n",
    "        !wget \"https://tus.box.com/shared/static/bjen9n56xhu6wrmgcwi9gy3cdexghgdg.gz\" -O fullCelebA.tar.gz\n",
    "    !tar -xzvf fullCelebA.tar.gz\n",
    "    !rm fullCelebA.tar.gz"
   ]
  },
  {
   "attachments": {},
   "cell_type": "markdown",
   "id": "95fc6fbb",
   "metadata": {},
   "source": [
    "##### 本来の CelebA の削除（必要に応じて）"
   ]
  },
  {
   "cell_type": "code",
   "execution_count": null,
   "id": "b6488cf2",
   "metadata": {},
   "outputs": [],
   "source": [
    "import os\n",
    "\n",
    "if os.path.isdir('fullCelebA'):\n",
    "    !rm -fr fullCelebA"
   ]
  },
  {
   "attachments": {},
   "cell_type": "markdown",
   "id": "827568e5",
   "metadata": {},
   "source": [
    "##### 物体画像データセット STL10 (tinySTL10.tar.gz) のダウンロード・解凍\n",
    "- これは本来の STL10 ではなく，その一部のみを抜き出した簡易版です．"
   ]
  },
  {
   "cell_type": "code",
   "execution_count": null,
   "id": "30cdd415",
   "metadata": {},
   "outputs": [],
   "source": [
    "import os\n",
    "\n",
    "if not os.path.isdir('tinySTL10'):\n",
    "    if not os.path.isfile('tinySTL10.tar.gz'):\n",
    "        !wget \"https://tus.box.com/shared/static/nmy1wan8q24tvdyvwemx5q3xdu70g48y.gz\" -O tinySTL10.tar.gz\n",
    "    !tar -xzvf tinySTL10.tar.gz\n",
    "    !rm tinySTL10.tar.gz"
   ]
  },
  {
   "attachments": {},
   "cell_type": "markdown",
   "id": "59c59e3d",
   "metadata": {},
   "source": [
    "##### 簡易版 STL10 の削除（必要に応じて）"
   ]
  },
  {
   "cell_type": "code",
   "execution_count": null,
   "id": "61f619c3",
   "metadata": {},
   "outputs": [],
   "source": [
    "import os\n",
    "\n",
    "if os.path.isdir('tinySTL10'):\n",
    "    !rm -fr tinySTL10"
   ]
  },
  {
   "attachments": {},
   "cell_type": "markdown",
   "id": "07e337ef",
   "metadata": {},
   "source": [
    "##### 改ざん画像データセット DEFACTO (defacto.tar.gz) のダウンロード・解凍\n",
    "- これは本来の DEFACTO ではなく，物体削除系の改ざん画像のみを取り出した簡易版です．\n",
    "- 改ざん領域を含む 128x128 ピクセルの部分を切り出して使用しています（元々の改ざん領域のサイズが128x128より大きいものは無視しました）．\n",
    "- ファイルサイズが大きいので，必要になるまでダウンロードしないほうが良いです．"
   ]
  },
  {
   "cell_type": "code",
   "execution_count": null,
   "id": "65d5ded2",
   "metadata": {},
   "outputs": [],
   "source": [
    "import os\n",
    "\n",
    "if not os.path.isdir('defacto'):\n",
    "    if not os.path.isfile('defacto.tar.gz'):\n",
    "        !wget \"https://tus.box.com/shared/static/cxxeshjsqnswdxncqi8kkx6vp7v5o66i.gz\" -O defacto.tar.gz\n",
    "    !tar -xzvf defacto.tar.gz\n",
    "    !rm defacto.tar.gz"
   ]
  },
  {
   "attachments": {},
   "cell_type": "markdown",
   "id": "f0aaf576",
   "metadata": {},
   "source": [
    "##### 簡易版 DEFACTO の削除（必要に応じて）"
   ]
  },
  {
   "cell_type": "code",
   "execution_count": null,
   "id": "25475674",
   "metadata": {},
   "outputs": [],
   "source": [
    "import os\n",
    "\n",
    "if os.path.isdir('defacto'):\n",
    "    !rm -fr defacto"
   ]
  },
  {
   "attachments": {},
   "cell_type": "markdown",
   "id": "aa1eedc8",
   "metadata": {},
   "source": [
    "##### Fake顔画像データセット (FakeFaces.tar.gz) のダウンロード・解凍\n",
    "- DeepFake Detection Challenge のデータセットから顔領域のみを切り出した簡易版です．\n",
    "- 本来は動画データセットですが，ここでは，数フレームに1フレームの割合でフレームを取り出したのち，そこから顔領域を抽出することにより，画像データセットとして作成しています．\n",
    "- 本来のテストデータに対する正解ラベルが公開されていないため，訓練データセットの一部を独断で選定の上，テストデータとして使用しています．\n",
    "- データセット作成のために用いた顔検出器の精度に限界があったため，顔でない画像もわずかながら含まれます．\n",
    "- ファイルサイズが大きいので，必要になるまでダウンロードしないほうが良いです．"
   ]
  },
  {
   "cell_type": "code",
   "execution_count": null,
   "id": "937a133e",
   "metadata": {},
   "outputs": [],
   "source": [
    "import os\n",
    "\n",
    "if not os.path.isdir('FakeFaces'):\n",
    "    if not os.path.isfile('FakeFaces.tar.gz'):\n",
    "        !wget \"https://tus.box.com/shared/static/fzbje338p3lnf0gsencv1gozjgdtfr65.gz\" -O FakeFaces.tar.gz\n",
    "    !tar -xzvf FakeFaces.tar.gz\n",
    "    !rm FakeFaces.tar.gz"
   ]
  },
  {
   "attachments": {},
   "cell_type": "markdown",
   "id": "7cd17df0",
   "metadata": {},
   "source": [
    "##### Fake顔画像データの削除（必要に応じて）"
   ]
  },
  {
   "cell_type": "code",
   "execution_count": null,
   "id": "1a2611fb",
   "metadata": {},
   "outputs": [],
   "source": [
    "import os\n",
    "\n",
    "if os.path.isdir('FakeFaces'):\n",
    "    !rm -fr FakeFaces"
   ]
  },
  {
   "attachments": {},
   "cell_type": "markdown",
   "id": "39a3f282",
   "metadata": {},
   "source": [
    "##### 果物画像データセット (fruits-360.tar.gz) の解凍\n",
    "- サンプルコードでは使用しません（興味のある人向け）．\n",
    "- ファイルサイズがやや大きいので，不必要ならダウンロードしないほうが良いです．"
   ]
  },
  {
   "cell_type": "code",
   "execution_count": null,
   "id": "d613683b",
   "metadata": {},
   "outputs": [],
   "source": [
    "import os\n",
    "\n",
    "if not os.path.isdir('fruits-360'):\n",
    "    if not os.path.isfile('fruits-360.tar.gz'):\n",
    "        !wget \"https://tus.box.com/shared/static/0io1mqaac2gihgdrv10do59ohjxpcng4.gz\" -O fruits-360.tar.gz\n",
    "    !tar -xzvf fruits-360.tar.gz\n",
    "    !rm fruits-360.tar.gz"
   ]
  },
  {
   "attachments": {},
   "cell_type": "markdown",
   "id": "c5ba7b2e",
   "metadata": {},
   "source": [
    "##### 果物画像データの削除（必要に応じて）"
   ]
  },
  {
   "cell_type": "code",
   "execution_count": null,
   "id": "dc859c9e",
   "metadata": {},
   "outputs": [],
   "source": [
    "import os\n",
    "\n",
    "if os.path.isdir('fruits-360'):\n",
    "    !rm -fr fruits-360"
   ]
  }
 ],
 "metadata": {
  "kernelspec": {
   "display_name": "Python 3 (ipykernel)",
   "language": "python",
   "name": "python3"
  },
  "language_info": {
   "codemirror_mode": {
    "name": "ipython",
    "version": 3
   },
   "file_extension": ".py",
   "mimetype": "text/x-python",
   "name": "python",
   "nbconvert_exporter": "python",
   "pygments_lexer": "ipython3",
   "version": "3.9.16"
  }
 },
 "nbformat": 4,
 "nbformat_minor": 5
}
