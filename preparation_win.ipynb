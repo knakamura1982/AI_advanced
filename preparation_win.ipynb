{
 "cells": [
  {
   "cell_type": "markdown",
   "id": "79debb7d",
   "metadata": {},
   "source": [
    "##### フォルダ（ディレクトリ）の作成\n",
    "- 各プログラムの実行結果（学習済みモデルファイルなど）の保存先フォルダを作成します（プログラム実行前に予め作成しておく必要があります）．\n",
    "- すでにフォルダが存在する場合は，コマンドは自動的に無視されます．"
   ]
  },
  {
   "cell_type": "code",
   "execution_count": 1,
   "id": "471e4023",
   "metadata": {},
   "outputs": [],
   "source": [
    "# MLP_sample.ipynb 実行用 \n",
    "!mkdir MLP_models\n",
    "\n",
    "# CNN_sample.ipynb 実行用\n",
    "!mkdir CNN_models\n",
    "\n",
    "# AE_sample_MNIST.ipynb 実行用\n",
    "!mkdir AE_models_MNIST\n",
    "\n",
    "# AE_sample_Face.ipynb 実行用\n",
    "!mkdir AE_models_Face\n",
    "\n",
    "# GAN_sample.ipynb 実行用\n",
    "!mkdir GAN_models\n",
    "\n",
    "# CVAE_sample.ipynb 実行用\n",
    "!mkdir CVAE_models\n",
    "\n",
    "# CGAN_sample.ipynb 実行用\n",
    "!mkdir CGAN_models\n",
    "\n",
    "# DDPM_sample.ipynb 実行用\n",
    "!mkdir DDPM_models\n",
    "\n",
    "# DDPM_sample.ipynb 実行用\n",
    "!mkdir LDDPM_models\n",
    "\n",
    "# TL_sample.ipynb 実行用\n",
    "!mkdir TL_models\n",
    "\n",
    "# attention_sample.ipynb 実行用\n",
    "!mkdir Attn_models\n",
    "\n",
    "# ViT_sample.ipynb 実行用\n",
    "!mkdir ViT_models\n",
    "\n",
    "# defacto_sample.ipynb 実行用\n",
    "!mkdir defacto_models\n",
    "\n",
    "# FakeFaces_sample.ipynb 実行用\n",
    "!mkdir FakeFaces_models"
   ]
  },
  {
   "cell_type": "markdown",
   "id": "99e7d6f5",
   "metadata": {},
   "source": [
    "##### 手書き数字文字画像データセットMNIST (MNIST.tar.gz) のダウンロード・解凍\n",
    "- 数分かかる可能性があります．"
   ]
  },
  {
   "cell_type": "code",
   "execution_count": 2,
   "id": "9d4856a5-bdbd-4606-a38b-facec10507db",
   "metadata": {
    "execution": {
     "iopub.execute_input": "2023-03-29T03:42:55.540660Z",
     "iopub.status.busy": "2023-03-29T03:42:55.540316Z",
     "iopub.status.idle": "2023-03-29T03:43:43.355445Z",
     "shell.execute_reply": "2023-03-29T03:43:43.354530Z",
     "shell.execute_reply.started": "2023-03-29T03:42:55.540633Z"
    }
   },
   "outputs": [],
   "source": [
    "import os\n",
    "\n",
    "if not os.path.isdir('MNIST'):\n",
    "    if not os.path.isfile('MNIST.tar.gz'):\n",
    "        !Powershell.exe -Command \"wget https://tus.box.com/shared/static/zcang299uhfe0b7fkyndt9ccr18t7ipi.gz -O MNIST.tar.gz\"\n",
    "    !Powershell.exe -Command \"tar -xzf MNIST.tar.gz\"\n",
    "    !Powershell.exe -Command \"rm MNIST.tar.gz\""
   ]
  },
  {
   "cell_type": "markdown",
   "id": "e92b73ef",
   "metadata": {},
   "source": [
    "##### MNISTの削除（必要に応じて）"
   ]
  },
  {
   "cell_type": "code",
   "execution_count": 5,
   "id": "36ad9817",
   "metadata": {},
   "outputs": [],
   "source": [
    "import os\n",
    "\n",
    "if os.path.isdir('MNIST'):\n",
    "    !Powershell.exe -Command \"rm -r -fo MNIST\""
   ]
  },
  {
   "cell_type": "markdown",
   "id": "bb2f6fd8",
   "metadata": {},
   "source": [
    "##### 文字色つきMNIST (ColoredMNIST.tar.gz) のダウンロード・解凍\n",
    "- サンプルコードでは使用しません（興味のある人向け）．\n",
    "- 数分かかる可能性があります．"
   ]
  },
  {
   "cell_type": "code",
   "execution_count": 6,
   "id": "e2b0604c",
   "metadata": {},
   "outputs": [],
   "source": [
    "import os\n",
    "\n",
    "if not os.path.isdir('ColoredMNIST'):\n",
    "    if not os.path.isfile('ColoredMNIST.tar.gz'):\n",
    "        !Powershell.exe -Command \"wget https://tus.box.com/shared/static/nexjdgkyf5rcm8vorj0zqfkchkslam6y.gz -O ColoredMNIST.tar.gz\"\n",
    "    !Powershell.exe -Command \"tar -xzf ColoredMNIST.tar.gz\"\n",
    "    !Powershell.exe -Command \"rm ColoredMNIST.tar.gz\""
   ]
  },
  {
   "cell_type": "markdown",
   "id": "8c1edc94",
   "metadata": {},
   "source": [
    "##### 文字色付きMNISTの削除（必要に応じて）"
   ]
  },
  {
   "cell_type": "code",
   "execution_count": 13,
   "id": "6541bcff",
   "metadata": {},
   "outputs": [],
   "source": [
    "import os\n",
    "\n",
    "if os.path.isdir('ColoredMNIST'):\n",
    "    !Powershell.exe -Command \"rm -r -fo ColoredMNIST\""
   ]
  },
  {
   "cell_type": "markdown",
   "id": "5c85675b",
   "metadata": {},
   "source": [
    "##### 顔画像データセット CelebA (tinyCelebA.tar.gz) のダウンロード・解凍\n",
    "- これは本来の CelebA ではなく，その中から10%弱の画像をランダムに抜き出した簡易版です．\n",
    "- 数分かかる可能性があります．"
   ]
  },
  {
   "cell_type": "code",
   "execution_count": 7,
   "id": "31dc1d46",
   "metadata": {},
   "outputs": [],
   "source": [
    "import os\n",
    "\n",
    "if not os.path.isdir('tinyCelebA'):\n",
    "    if not os.path.isfile('tinyCelebA.tar.gz'):\n",
    "        !Powershell.exe -Command \"wget https://tus.box.com/shared/static/fel28ekwknan6nkdbr5ou0jcfttft19v.gz -O tinyCelebA.tar.gz\"\n",
    "    !Powershell.exe -Command \"tar -xzf tinyCelebA.tar.gz\"\n",
    "    !Powershell.exe -Command \"rm tinyCelebA.tar.gz\""
   ]
  },
  {
   "cell_type": "markdown",
   "id": "b31b3496",
   "metadata": {},
   "source": [
    "##### 簡易版 CelebA の削除（必要に応じて）"
   ]
  },
  {
   "cell_type": "code",
   "execution_count": 14,
   "id": "3fa63bff",
   "metadata": {},
   "outputs": [],
   "source": [
    "import os\n",
    "\n",
    "if os.path.isdir('tinyCelebA'):\n",
    "    !Powershell.exe -Command \"rm -r -fo tinyCelebA\""
   ]
  },
  {
   "cell_type": "markdown",
   "id": "57d8dcaa",
   "metadata": {},
   "source": [
    "##### 本来の CelebA (fullCelebA.tar.gz) のダウンロード・解凍\n",
    "- サンプルコードでは使用しません（興味のある人向け）．\n",
    "- ファイルサイズが大きいので，不必要ならダウンロードしないほうが良いです．\n",
    "- 数十分～１時間程度かかる可能性があります．"
   ]
  },
  {
   "cell_type": "code",
   "execution_count": 8,
   "id": "d7344679",
   "metadata": {},
   "outputs": [],
   "source": [
    "import os\n",
    "\n",
    "if not os.path.isdir('fullCelebA'):\n",
    "    if not os.path.isfile('fullCelebA.tar.gz'):\n",
    "        !Powershell.exe -Command \"wget https://tus.box.com/shared/static/jochom2i9ieshltl3tgkis925qyf0spc.gz -O fullCelebA.tar.gz\"\n",
    "    !Powershell.exe -Command \"tar -xzf fullCelebA.tar.gz\"\n",
    "    !Powershell.exe -Command \"rm fullCelebA.tar.gz\""
   ]
  },
  {
   "cell_type": "markdown",
   "id": "95fc6fbb",
   "metadata": {},
   "source": [
    "##### 本来の CelebA の削除（必要に応じて）"
   ]
  },
  {
   "cell_type": "code",
   "execution_count": 15,
   "id": "b6488cf2",
   "metadata": {},
   "outputs": [],
   "source": [
    "import os\n",
    "\n",
    "if os.path.isdir('fullCelebA'):\n",
    "    !Powershell.exe -Command \"rm -r -fo fullCelebA\""
   ]
  },
  {
   "cell_type": "markdown",
   "id": "827568e5",
   "metadata": {},
   "source": [
    "##### 物体画像データセット STL10 (tinySTL10.tar.gz) のダウンロード・解凍\n",
    "- これは本来の STL10 ではなく，その一部のみを抜き出した簡易版です．\n",
    "- 十数分かかる可能性があります．"
   ]
  },
  {
   "cell_type": "code",
   "execution_count": 10,
   "id": "30cdd415",
   "metadata": {},
   "outputs": [],
   "source": [
    "import os\n",
    "\n",
    "if not os.path.isdir('tinySTL10'):\n",
    "    if not os.path.isfile('tinySTL10.tar.gz'):\n",
    "        !Powershell.exe -Command \"wget https://tus.box.com/shared/static/iz6kn1qk6y32a68y5x01q84cboal74ct.gz -O tinySTL10.tar.gz\"\n",
    "    !Powershell.exe -Command \"tar -xzf tinySTL10.tar.gz\"\n",
    "    !Powershell.exe -Command \"rm tinySTL10.tar.gz\""
   ]
  },
  {
   "cell_type": "markdown",
   "id": "59c59e3d",
   "metadata": {},
   "source": [
    "##### 簡易版 STL10 の削除（必要に応じて）"
   ]
  },
  {
   "cell_type": "code",
   "execution_count": 16,
   "id": "61f619c3",
   "metadata": {},
   "outputs": [],
   "source": [
    "import os\n",
    "\n",
    "if os.path.isdir('tinySTL10'):\n",
    "    !Powershell.exe -Command \"rm -r -fo tinySTL10\""
   ]
  },
  {
   "cell_type": "markdown",
   "id": "07e337ef",
   "metadata": {},
   "source": [
    "##### 改ざん画像データセット DEFACTO (defacto.tar.gz) のダウンロード・解凍\n",
    "- これは本来の DEFACTO ではなく，物体削除系の改ざん画像のみを取り出した簡易版です．\n",
    "- 改ざん領域を含む 128x128 ピクセルの部分を切り出して使用しています（元々の改ざん領域のサイズが128x128より大きいものは無視しました）．\n",
    "- ファイルサイズが大きいので，必要になるまでダウンロードしないほうが良いです．\n",
    "- 1時間程度かかる可能性があります．"
   ]
  },
  {
   "cell_type": "code",
   "execution_count": 9,
   "id": "65d5ded2",
   "metadata": {},
   "outputs": [],
   "source": [
    "import os\n",
    "\n",
    "if not os.path.isdir('defacto'):\n",
    "    if not os.path.isfile('defacto.tar.gz'):\n",
    "        !Powershell.exe -Command \"wget https://tus.box.com/shared/static/8jjyqnw7z6ceuxcbgvpn8zrhxnsg8k17.gz -O defacto.tar.gz\"\n",
    "    !Powershell.exe -Command \"tar -xzf defacto.tar.gz\"\n",
    "    !Powershell.exe -Command \"rm defacto.tar.gz\""
   ]
  },
  {
   "cell_type": "markdown",
   "id": "f0aaf576",
   "metadata": {},
   "source": [
    "##### 簡易版 DEFACTO の削除（必要に応じて）"
   ]
  },
  {
   "cell_type": "code",
   "execution_count": 17,
   "id": "25475674",
   "metadata": {},
   "outputs": [],
   "source": [
    "import os\n",
    "\n",
    "if os.path.isdir('defacto'):\n",
    "    !Powershell.exe -Command \"rm -r -fo defacto\""
   ]
  },
  {
   "cell_type": "markdown",
   "id": "aa1eedc8",
   "metadata": {},
   "source": [
    "##### Fake顔画像データセット (FakeFaces.tar.gz) のダウンロード・解凍\n",
    "- DeepFake Detection Challenge のデータセットから顔領域のみを切り出した簡易版です．\n",
    "- 本来は動画データセットですが，ここでは，数フレームに1フレームの割合でフレームを取り出したのち，そこから顔領域を抽出することにより，画像データセットとして作成しています．\n",
    "- 本来のテストデータに対する正解ラベルが公開されていないため，訓練データセットの一部を独断で選定の上，テストデータとして使用しています．\n",
    "- データセット作成のために用いた顔検出器の精度に限界があったため，顔でない画像もわずかながら含まれます．\n",
    "- ファイルサイズが大きいので，必要になるまでダウンロードしないほうが良いです．\n",
    "- 30分程度かかる可能性があります．"
   ]
  },
  {
   "cell_type": "code",
   "execution_count": 11,
   "id": "937a133e",
   "metadata": {},
   "outputs": [],
   "source": [
    "import os\n",
    "\n",
    "if not os.path.isdir('FakeFaces'):\n",
    "    if not os.path.isfile('FakeFaces.tar.gz'):\n",
    "        !Powershell.exe -Command \"wget https://tus.box.com/shared/static/1gmomhdhmh2v26se1fxfrskevcwcakan.gz -O FakeFaces.tar.gz\"\n",
    "    !Powershell.exe -Command \"tar -xzf FakeFaces.tar.gz\"\n",
    "    !Powershell.exe -Command \"rm FakeFaces.tar.gz\""
   ]
  },
  {
   "cell_type": "markdown",
   "id": "7cd17df0",
   "metadata": {},
   "source": [
    "##### Fake顔画像データの削除（必要に応じて）"
   ]
  },
  {
   "cell_type": "code",
   "execution_count": 18,
   "id": "1a2611fb",
   "metadata": {},
   "outputs": [],
   "source": [
    "import os\n",
    "\n",
    "if os.path.isdir('FakeFaces'):\n",
    "    !Powershell.exe -Command \"rm -r -fo FakeFaces\""
   ]
  },
  {
   "cell_type": "markdown",
   "id": "39a3f282",
   "metadata": {},
   "source": [
    "##### 果物画像データセット (fruits-360.tar.gz) の解凍\n",
    "- サンプルコードでは使用しません（興味のある人向け）．\n",
    "- ファイルサイズがやや大きいので，不必要ならダウンロードしないほうが良いです．\n",
    "- 20分程度かかる可能性があります．"
   ]
  },
  {
   "cell_type": "code",
   "execution_count": 12,
   "id": "d613683b",
   "metadata": {},
   "outputs": [],
   "source": [
    "import os\n",
    "\n",
    "if not os.path.isdir('fruits-360'):\n",
    "    if not os.path.isfile('fruits-360.tar.gz'):\n",
    "        !Powershell.exe -Command \"wget https://tus.box.com/shared/static/xvmetcegd663do6i5881g92wodgbijui.gz -O fruits-360.tar.gz\"\n",
    "    !Powershell.exe -Command \"tar -xzf fruits-360.tar.gz\"\n",
    "    !Powershell.exe -Command \"rm fruits-360.tar.gz\""
   ]
  },
  {
   "cell_type": "markdown",
   "id": "c5ba7b2e",
   "metadata": {},
   "source": [
    "##### 果物画像データの削除（必要に応じて）"
   ]
  },
  {
   "cell_type": "code",
   "execution_count": 19,
   "id": "dc859c9e",
   "metadata": {},
   "outputs": [],
   "source": [
    "import os\n",
    "\n",
    "if os.path.isdir('fruits-360'):\n",
    "    !Powershell.exe -Command \"rm -r -fo fruits-360\""
   ]
  }
 ],
 "metadata": {
  "kernelspec": {
   "display_name": "Python 3 (ipykernel)",
   "language": "python",
   "name": "python3"
  },
  "language_info": {
   "codemirror_mode": {
    "name": "ipython",
    "version": 3
   },
   "file_extension": ".py",
   "mimetype": "text/x-python",
   "name": "python",
   "nbconvert_exporter": "python",
   "pygments_lexer": "ipython3",
   "version": "3.11.4"
  }
 },
 "nbformat": 4,
 "nbformat_minor": 5
}
