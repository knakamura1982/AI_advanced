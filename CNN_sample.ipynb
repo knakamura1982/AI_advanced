{
 "cells": [
  {
   "attachments": {},
   "cell_type": "markdown",
   "id": "8ed54f62-561d-4d70-b5e0-ada2dcfa6985",
   "metadata": {},
   "source": [
    "##### データセットの場所やバッチサイズなどの定数値の設定"
   ]
  },
  {
   "cell_type": "code",
   "execution_count": 1,
   "id": "d2b6c35a-36e5-4804-88a9-05845f930ba9",
   "metadata": {
    "execution": {
     "iopub.execute_input": "2023-03-29T04:04:05.739061Z",
     "iopub.status.busy": "2023-03-29T04:04:05.738572Z",
     "iopub.status.idle": "2023-03-29T04:04:05.745750Z",
     "shell.execute_reply": "2023-03-29T04:04:05.744240Z",
     "shell.execute_reply.started": "2023-03-29T04:04:05.739033Z"
    }
   },
   "outputs": [],
   "source": [
    "import os\n",
    "os.environ['CUDA_DEVICE_ORDER'] = 'PCI_BUS_ID'\n",
    "\n",
    "\n",
    "# 使用するデバイス\n",
    "# Paperspace Gradient などで GPU を利用する場合は DEVICE = 'cuda:0' とする\n",
    "DEVICE = 'cpu'\n",
    "\n",
    "# 全ての訓練データを一回ずつ使用することを「1エポック」として，何エポック分学習するか\n",
    "N_EPOCHS = 10\n",
    "\n",
    "# 学習時のバッチサイズ\n",
    "BATCH_SIZE = 100\n",
    "\n",
    "# 訓練データセット（画像ファイルリスト）のファイル名\n",
    "TRAIN_DATASET_CSV = './MNIST/train_list.csv'\n",
    "\n",
    "# テストデータセット（画像ファイルリスト）のファイル名\n",
    "TEST_DATASET_CSV = './MNIST/test_list.csv'\n",
    "\n",
    "# 画像ファイルの先頭に付加する文字列（データセットが存在するディレクトリのパス）\n",
    "DATA_DIR = './MNIST'\n",
    "\n",
    "# 学習結果の保存先フォルダ\n",
    "MODEL_DIR = './CNN_models'\n",
    "\n",
    "# 学習結果のニューラルネットワークの保存先\n",
    "MODEL_FILE = os.path.join(MODEL_DIR, 'mnist_recognizer_model.pth')"
   ]
  },
  {
   "attachments": {},
   "cell_type": "markdown",
   "id": "222c6861-3a41-453a-934e-8f74004239cf",
   "metadata": {},
   "source": [
    "##### ニューラルネットワークモデルの定義"
   ]
  },
  {
   "cell_type": "code",
   "execution_count": 2,
   "id": "b252d113-69ea-4de5-9822-b45319be2050",
   "metadata": {
    "execution": {
     "iopub.execute_input": "2023-03-29T04:10:01.887578Z",
     "iopub.status.busy": "2023-03-29T04:10:01.887193Z",
     "iopub.status.idle": "2023-03-29T04:10:01.898772Z",
     "shell.execute_reply": "2023-03-29T04:10:01.897491Z",
     "shell.execute_reply.started": "2023-03-29T04:10:01.887550Z"
    }
   },
   "outputs": [],
   "source": [
    "import torch\n",
    "import torch.nn as nn\n",
    "import torch.nn.functional as F\n",
    "\n",
    "\n",
    "# MNIST画像認識AIを実現するニューラルネットワーク\n",
    "# 畳込みニューラルネットワーク（CNN）のサンプル\n",
    "class MNISTRecognizer(nn.Module):\n",
    "\n",
    "    def __init__(self):\n",
    "        super(MNISTRecognizer, self).__init__()\n",
    "\n",
    "        # 畳込み層1: 入力（1チャンネル画像）→ 1層目（4チャンネル特徴マップ），カーネルサイズ3x3，ストライド幅1，パディングなし\n",
    "        self.conv1 = nn.Conv2d(in_channels=1, out_channels=4, kernel_size=3, stride=1, padding=0)\n",
    "\n",
    "        # max-pooling層: 特徴マップの縦幅・横幅をそれぞれ 1/2 に（元々の幅が奇数の場合は端数切捨て）\n",
    "        self.pool = nn.MaxPool2d(kernel_size=2)\n",
    "\n",
    "        # 畳込み層2: 1層目（4チャンネル特徴マップ）→ 2層目（4チャンネル特徴マップ），カーネルサイズ3x3，ストライド幅1，パディングなし\n",
    "        self.conv2 = nn.Conv2d(in_channels=4, out_channels=4, kernel_size=3, stride=1, padding=0)\n",
    "\n",
    "        # 平坦化: 3次元の特徴マップを1次元（一列）に並べ直す\n",
    "        self.flat = nn.Flatten()\n",
    "\n",
    "        # 全結合層: 2層目（4チャンネル特徴マップ，パーセプトロン数は4x11x11）→ 出力（10次元）\n",
    "        self.fc = nn.Linear(in_features=4*11*11, out_features=10)\n",
    "\n",
    "    def forward(self, x):\n",
    "        h = self.conv1(x) # 畳込み層1に画像を入力，画像サイズが 1x28x28 なので，特徴マップのサイズは 4x26x26 になる\n",
    "        h = F.relu(h) # 活性化関数 ReLU\n",
    "        h = self.pool(h) # max-pooling層を適用する．適用前の特徴マップのサイズが 4x26x26 なので，適用後は 4x13x13 になる\n",
    "        h = self.conv2(h) # 続いて畳込み層2に通す．これにより特徴マップのサイズは 4x13x13 から 4x11x11 に変わる\n",
    "        h = F.relu(h) # 活性化関数 ReLU\n",
    "        h = self.flat(h) # 平坦化する．これにより 4x11x11=484 個のパーセプトロンが一列に並んだ「層」となる\n",
    "        y = self.fc(h) # 最後に全結合層に通す\n",
    "        return y"
   ]
  },
  {
   "attachments": {},
   "cell_type": "markdown",
   "id": "fdaa70a0-4b05-478c-a8f3-fee09d1edce8",
   "metadata": {},
   "source": [
    "##### 訓練データセットの読み込み"
   ]
  },
  {
   "cell_type": "code",
   "execution_count": 3,
   "id": "f582c6bf-24d7-4f97-b34c-6a0b4118b8a0",
   "metadata": {
    "execution": {
     "iopub.execute_input": "2023-03-29T04:04:59.712302Z",
     "iopub.status.busy": "2023-03-29T04:04:59.711915Z",
     "iopub.status.idle": "2023-03-29T04:04:59.780017Z",
     "shell.execute_reply": "2023-03-29T04:04:59.778964Z",
     "shell.execute_reply.started": "2023-03-29T04:04:59.712273Z"
    }
   },
   "outputs": [],
   "source": [
    "import pickle\n",
    "from torch.utils.data import DataLoader, random_split\n",
    "from mylib.data_io import CSVBasedDataset\n",
    "\n",
    "\n",
    "# CSVファイルを読み込み, 訓練データセットを用意\n",
    "dataset = CSVBasedDataset(\n",
    "    filename = TRAIN_DATASET_CSV,\n",
    "    items = [\n",
    "        'File Path', # X\n",
    "        'Class Label' # Y\n",
    "    ],\n",
    "    dtypes = [\n",
    "        'image', # Xの型\n",
    "        'label' # Yの型\n",
    "    ],\n",
    "    dirname = DATA_DIR\n",
    ")\n",
    "with open(os.path.join(MODEL_DIR, 'fdicts.pkl'), 'wb') as fdicts_file:\n",
    "    pickle.dump(dataset.forward_dicts, fdicts_file)\n",
    "\n",
    "# 認識対象のクラス数を取得\n",
    "n_classes = len(dataset.forward_dicts[1])\n",
    "\n",
    "# 訓練データセットを分割し，一方を検証用に回す\n",
    "dataset_size = len(dataset)\n",
    "valid_size = int(0.05 * dataset_size) # 全体の 5% を検証用に\n",
    "train_size = dataset_size - valid_size # 残りの 95% を学習用に\n",
    "train_dataset, valid_dataset = random_split(dataset, [train_size, valid_size])\n",
    "\n",
    "# 訓練データおよび検証用データをミニバッチに分けて使用するための「データローダ」を用意\n",
    "train_dataloader = DataLoader(train_dataset, batch_size=BATCH_SIZE, shuffle=True, pin_memory=True)\n",
    "valid_dataloader = DataLoader(valid_dataset, batch_size=BATCH_SIZE, shuffle=False, pin_memory=True)"
   ]
  },
  {
   "attachments": {},
   "cell_type": "markdown",
   "id": "e6b1aea1-4ab4-41ed-9dcb-9874f4c193af",
   "metadata": {},
   "source": [
    "##### 学習処理の実行"
   ]
  },
  {
   "cell_type": "code",
   "execution_count": null,
   "id": "aa4ca80c-4186-4d86-9663-e1a266cc522b",
   "metadata": {
    "execution": {
     "iopub.execute_input": "2023-03-29T04:10:10.524021Z",
     "iopub.status.busy": "2023-03-29T04:10:10.523112Z",
     "iopub.status.idle": "2023-03-29T04:11:42.906423Z",
     "shell.execute_reply": "2023-03-29T04:11:42.904894Z",
     "shell.execute_reply.started": "2023-03-29T04:10:10.524021Z"
    }
   },
   "outputs": [],
   "source": [
    "import torch\n",
    "import torch.nn as nn\n",
    "import torch.optim as optim\n",
    "from tqdm import tqdm\n",
    "from mylib.visualizers import LossVisualizer\n",
    "\n",
    "\n",
    "# ニューラルネットワークの作成\n",
    "model = MNISTRecognizer().to(DEVICE)\n",
    "\n",
    "# 最適化アルゴリズムの指定（ここでは SGD でなく Adam を使用）\n",
    "optimizer = optim.Adam(model.parameters())\n",
    "\n",
    "# 損失関数：クロスエントロピー損失を使用\n",
    "loss_func =  nn.CrossEntropyLoss()\n",
    "\n",
    "# 損失関数値を記録する準備\n",
    "loss_viz = LossVisualizer(['train loss', 'valid loss'])\n",
    "\n",
    "# 勾配降下法による繰り返し学習\n",
    "for epoch in range(N_EPOCHS):\n",
    "\n",
    "    print('Epoch {0}:'.format(epoch + 1))\n",
    "\n",
    "    # 学習\n",
    "    model.train()\n",
    "    sum_loss = 0\n",
    "    for X, Y in tqdm(train_dataloader): # X, Y は CSVBasedDataset クラスの __getitem__ 関数の戻り値に対応\n",
    "        for param in model.parameters():\n",
    "            param.grad = None\n",
    "        X = X.to(DEVICE)\n",
    "        Y = Y.to(DEVICE)\n",
    "        Y_pred = model(X) # 入力画像 X を現在のニューラルネットワークに入力し，出力の推定値を得る\n",
    "        loss = loss_func(Y_pred, Y) # 損失関数の現在値を計算\n",
    "        loss.backward() # 誤差逆伝播法により，個々のパラメータに関する損失関数の勾配（偏微分）を計算\n",
    "        optimizer.step() # 勾配に沿ってパラメータの値を更新\n",
    "        sum_loss += float(loss) * len(X)\n",
    "    avg_loss = sum_loss / train_size\n",
    "    loss_viz.add_value('train loss', avg_loss) # 訓練データに対する損失関数の値を記録\n",
    "    print('train loss = {0:.6f}'.format(avg_loss))\n",
    "\n",
    "    # 検証\n",
    "    model.eval()\n",
    "    sum_loss = 0\n",
    "    n_failed = 0\n",
    "    with torch.inference_mode():\n",
    "        for X, Y in tqdm(valid_dataloader):\n",
    "            X = X.to(DEVICE)\n",
    "            Y = Y.to(DEVICE)\n",
    "            Y_pred = model(X)\n",
    "            loss = loss_func(Y_pred, Y)\n",
    "            sum_loss += float(loss) * len(X)\n",
    "            n_failed += torch.count_nonzero(torch.argmax(Y_pred, dim=1) - Y) # 推定値と正解値が一致していないデータの個数を数える\n",
    "    avg_loss = sum_loss / valid_size\n",
    "    loss_viz.add_value('valid loss', avg_loss) # 検証用データに対する損失関数の値を記録\n",
    "    accuracy = (valid_size - n_failed) / valid_size\n",
    "    print('valid loss = {0:.6f}'.format(avg_loss))\n",
    "    print('accuracy = {0:.2f}%'.format(100 * accuracy))\n",
    "    print('')\n",
    "\n",
    "# 学習結果のニューラルネットワークモデルをファイルに保存\n",
    "model = model.to('cpu')\n",
    "torch.save(model.state_dict(), MODEL_FILE)\n",
    "\n",
    "# 損失関数の記録をファイルに保存\n",
    "loss_viz.save(v_file=os.path.join(MODEL_DIR, 'loss_graph.png'), h_file=os.path.join(MODEL_DIR, 'loss_history.csv'))"
   ]
  },
  {
   "attachments": {},
   "cell_type": "markdown",
   "id": "aaf1e1f4",
   "metadata": {},
   "source": [
    "##### テストデータセットの読み込み"
   ]
  },
  {
   "cell_type": "code",
   "execution_count": 5,
   "id": "9486051b",
   "metadata": {},
   "outputs": [],
   "source": [
    "import pickle\n",
    "from torch.utils.data import DataLoader\n",
    "from mylib.data_io import CSVBasedDataset\n",
    "\n",
    "\n",
    "# CSVファイルを読み込み, テストデータセットを用意\n",
    "with open(os.path.join(MODEL_DIR, 'fdicts.pkl'), 'rb') as fdicts_file:\n",
    "    fdicts = pickle.load(fdicts_file)\n",
    "test_dataset = CSVBasedDataset(\n",
    "    filename = TEST_DATASET_CSV,\n",
    "    items = [\n",
    "        'File Path', # X\n",
    "        'Class Label' # Y\n",
    "    ],\n",
    "    dtypes = [\n",
    "        'image', # Xの型\n",
    "        'label' # Yの型\n",
    "    ],\n",
    "    dirname = DATA_DIR,\n",
    "    fdicts = fdicts\n",
    ")\n",
    "test_size = len(test_dataset)\n",
    "\n",
    "# 認識対象のクラス数を取得\n",
    "n_classes = len(test_dataset.forward_dicts[1])\n",
    "\n",
    "# テストデータをミニバッチに分けて使用するための「データローダ」を用意\n",
    "test_dataloader = DataLoader(test_dataset, batch_size=BATCH_SIZE, shuffle=False, pin_memory=True)"
   ]
  },
  {
   "attachments": {},
   "cell_type": "markdown",
   "id": "1391d377",
   "metadata": {},
   "source": [
    "##### 学習済みニューラルネットワークモデルのロード"
   ]
  },
  {
   "cell_type": "code",
   "execution_count": 6,
   "id": "bb382861",
   "metadata": {},
   "outputs": [],
   "source": [
    "import torch\n",
    "\n",
    "\n",
    "# ニューラルネットワークモデルとその学習済みパラメータをファイルからロード\n",
    "model = MNISTRecognizer()\n",
    "model.load_state_dict(torch.load(MODEL_FILE))"
   ]
  },
  {
   "attachments": {},
   "cell_type": "markdown",
   "id": "882dbc96",
   "metadata": {},
   "source": [
    "##### 単一画像に対するテスト処理の実行"
   ]
  },
  {
   "cell_type": "code",
   "execution_count": null,
   "id": "f8b57c7b",
   "metadata": {},
   "outputs": [],
   "source": [
    "import torch\n",
    "from mylib.data_io import show_single_image\n",
    "\n",
    "\n",
    "model = model.to(DEVICE)\n",
    "model.eval()\n",
    "\n",
    "# index 番目のテストデータをニューラルネットワークに入力してみる\n",
    "while True:\n",
    "    print('index?: ', end='')\n",
    "    val = input()\n",
    "    if val == 'exit': # 'exit' とタイプされたら終了\n",
    "        break\n",
    "    index = int(val)\n",
    "    x, y = test_dataset[index]\n",
    "    x = x.reshape(1, *x.size()).to(DEVICE)\n",
    "    with torch.inference_mode():\n",
    "        y_pred = model(x)\n",
    "    y_pred = torch.argmax(y_pred, dim=1)\n",
    "    print('')\n",
    "    print('estimated:', int(y_pred))\n",
    "    print('ground truth:', int(y))\n",
    "    print('')\n",
    "    show_single_image(x.to('cpu'), title='input image', sec=1)"
   ]
  },
  {
   "attachments": {},
   "cell_type": "markdown",
   "id": "489b7496",
   "metadata": {},
   "source": [
    "##### 全ての画像に対するテスト処理の実行"
   ]
  },
  {
   "cell_type": "code",
   "execution_count": null,
   "id": "b50e4d53",
   "metadata": {},
   "outputs": [],
   "source": [
    "import torch\n",
    "from tqdm import tqdm\n",
    "\n",
    "\n",
    "model = model.to(DEVICE)\n",
    "model.eval()\n",
    "\n",
    "# テストデータセットを用いて認識精度を評価\n",
    "n_failed = 0\n",
    "with torch.inference_mode():\n",
    "    for X, Y in tqdm(test_dataloader):\n",
    "        X = X.to(DEVICE)\n",
    "        Y = Y.to(DEVICE)\n",
    "        Y_pred = model(X)\n",
    "        n_failed += torch.count_nonzero(torch.argmax(Y_pred, dim=1) - Y) # 推定値と正解値が一致していないデータの個数を数える\n",
    "    accuracy = (test_size - n_failed) / test_size\n",
    "    print('accuracy = {0:.2f}%'.format(100 * accuracy))\n",
    "    print('')"
   ]
  }
 ],
 "metadata": {
  "kernelspec": {
   "display_name": "Python 3 (ipykernel)",
   "language": "python",
   "name": "python3"
  },
  "language_info": {
   "codemirror_mode": {
    "name": "ipython",
    "version": 3
   },
   "file_extension": ".py",
   "mimetype": "text/x-python",
   "name": "python",
   "nbconvert_exporter": "python",
   "pygments_lexer": "ipython3",
   "version": "3.9.16"
  }
 },
 "nbformat": 4,
 "nbformat_minor": 5
}
