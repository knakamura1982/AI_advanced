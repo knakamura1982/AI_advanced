{
 "cells": [
  {
   "attachments": {},
   "cell_type": "markdown",
   "metadata": {},
   "source": [
    "##### 固有空間の次元数などの定数値の設定"
   ]
  },
  {
   "cell_type": "code",
   "execution_count": 12,
   "metadata": {},
   "outputs": [],
   "source": [
    "import os\n",
    "\n",
    "\n",
    "# 訓練データセット（画像ファイルリスト）のファイル名\n",
    "DATASET_CSV = './tinyCelebA/train_list.csv'\n",
    "\n",
    "# 画像ファイルの先頭に付加する文字列（データセットが存在するディレクトリのパス）\n",
    "DATA_DIR = './tinyCelebA'\n",
    "\n",
    "# 画像サイズ\n",
    "H = 128 # 縦幅\n",
    "W = 128 # 横幅\n",
    "C = 3 # チャンネル数（カラー画像なら3，グレースケール画像なら1）\n",
    "\n",
    "# 読み込む画像の枚数\n",
    "N_SAMPLES = 2048\n",
    "\n",
    "# 固有空間の次元数\n",
    "N_DIMS = 64\n",
    "\n",
    "# GMMにおけるコンポーネント分布数\n",
    "N_COMPONENTS = 50\n",
    "\n",
    "# PCA結果などの保存先フォルダ\n",
    "MODEL_DIR = './PCA_based'\n",
    "\n",
    "# PCA結果の保存先\n",
    "RESULT_FILE_MEAN = os.path.join(MODEL_DIR, 'mean.npy') # 平均ベクトル\n",
    "RESULT_FILE_EIGENVECTORS = os.path.join(MODEL_DIR, 'eigenvectors.npy') # 固有ベクトル\n",
    "RESULT_FILE_COMPRESSED_DATA = os.path.join(MODEL_DIR, 'compressed_data.npy') # 圧縮後データ\n",
    "\n",
    "# GMM当てはめ結果の保存先\n",
    "RESULT_FILE_GMM = os.path.join(MODEL_DIR, 'gmm.pkl')"
   ]
  },
  {
   "attachments": {},
   "cell_type": "markdown",
   "metadata": {},
   "source": [
    "##### 訓練データセットの読み込み\n",
    "- 数十秒かかる可能性があります"
   ]
  },
  {
   "cell_type": "code",
   "execution_count": 2,
   "metadata": {},
   "outputs": [],
   "source": [
    "import numpy as np\n",
    "from PCA_based.func import make_list, read_images\n",
    "\n",
    "\n",
    "# 画像リストを作成\n",
    "image_list = make_list(DATASET_CSV, item='File Path', data_dir=DATA_DIR)\n",
    "\n",
    "# 画像リストからランダムに N_SAMPLES 枚を取得\n",
    "IDs = np.random.permutation(len(image_list))[:N_SAMPLES]\n",
    "images = read_images(image_list, IDs)"
   ]
  },
  {
   "attachments": {},
   "cell_type": "markdown",
   "metadata": {},
   "source": [
    "##### PCAの実行\n",
    "- 数分はかかると思います"
   ]
  },
  {
   "cell_type": "code",
   "execution_count": null,
   "metadata": {},
   "outputs": [],
   "source": [
    "import numpy as np\n",
    "from PCA_based.func import compress\n",
    "\n",
    "\n",
    "# 平均を求める\n",
    "mean = np.mean(images, axis=0, keepdims=True)\n",
    "\n",
    "# 各データから平均を引く\n",
    "X = images - mean # 平均を引いた後の images が行列 X に相当\n",
    "\n",
    "# Dual PCAを実行\n",
    "print('executing PCA ... ')\n",
    "Cov = (1 / N_SAMPLES) * X @ X.T\n",
    "eigenvalues, eigenvectors = np.linalg.eigh(Cov)\n",
    "eigenvalues = eigenvalues[::-1] # 昇順に並んでいる固有値を降順に並び替え\n",
    "eigenvectors = np.flip(eigenvectors, axis=1) # 固有ベクトルも同様に並び替え\n",
    "eigenvalues = eigenvalues[:N_DIMS] # 上位 N_DIMS 個の固有値のみを取り出す\n",
    "eigenvectors = eigenvectors[:, :N_DIMS] # 固有ベクトルについても同様\n",
    "eigenvectors = eigenvectors.T @ X # Dual PCAによる固有ベクトルから本来のPCAによる固有ベクトルを復元\n",
    "eigenvectors /= np.linalg.norm(eigenvectors, axis=1, keepdims=True) # 固有ベクトルのノルムを1にする\n",
    "print('done')\n",
    "print('')\n",
    "\n",
    "# 各データを圧縮\n",
    "compressed_data = compress(images, mean, eigenvectors)\n",
    "\n",
    "# PCA結果をファイルに保存\n",
    "np.save(RESULT_FILE_MEAN, mean)\n",
    "np.save(RESULT_FILE_EIGENVECTORS, eigenvectors)\n",
    "np.save(RESULT_FILE_COMPRESSED_DATA, compressed_data)\n",
    "print('save mean vector as', RESULT_FILE_MEAN)\n",
    "print('save eigenvectors as', RESULT_FILE_EIGENVECTORS)\n",
    "print('save compressed data as', RESULT_FILE_COMPRESSED_DATA)\n",
    "print('')"
   ]
  },
  {
   "attachments": {},
   "cell_type": "markdown",
   "metadata": {},
   "source": [
    "##### PCA実行結果ファイルのロード"
   ]
  },
  {
   "cell_type": "code",
   "execution_count": 5,
   "metadata": {},
   "outputs": [],
   "source": [
    "import numpy as np\n",
    "\n",
    "\n",
    "mean = np.load(RESULT_FILE_MEAN)\n",
    "eigenvectors = np.load(RESULT_FILE_EIGENVECTORS)\n",
    "compressed_data = np.load(RESULT_FILE_COMPRESSED_DATA)"
   ]
  },
  {
   "attachments": {},
   "cell_type": "markdown",
   "metadata": {},
   "source": [
    "##### 圧縮・復元のテスト"
   ]
  },
  {
   "cell_type": "code",
   "execution_count": null,
   "metadata": {},
   "outputs": [],
   "source": [
    "import numpy as np\n",
    "from PCA_based.func import read_single_image, show_single_image, compress, generate\n",
    "\n",
    "\n",
    "# 画像を一枚ランダムに選択して読み込む\n",
    "ID = np.random.randint(0, len(image_list))\n",
    "img = read_single_image(image_list, ID)\n",
    "\n",
    "# 読み込んだ画像を圧縮\n",
    "vec = compress(img, mean, eigenvectors)\n",
    "\n",
    "# 圧縮表現から画像を復元\n",
    "gen = generate(vec, mean, eigenvectors)\n",
    "\n",
    "# 圧縮前の画像を表示\n",
    "show_single_image(img, shape=(H, W, C), window_name='original')\n",
    "\n",
    "# 復元後の画像を表示\n",
    "show_single_image(gen, shape=(H, W, C), window_name='reconstructed')"
   ]
  },
  {
   "attachments": {},
   "cell_type": "markdown",
   "metadata": {},
   "source": [
    "##### 乱数により定めた圧縮表現（ベクトル）からの画像生成"
   ]
  },
  {
   "cell_type": "code",
   "execution_count": null,
   "metadata": {},
   "outputs": [],
   "source": [
    "import numpy as np\n",
    "from PCA_based.func import show_images, generate\n",
    "\n",
    "\n",
    "# 生成する画像の枚数\n",
    "n_gen = 10\n",
    "\n",
    "# 一様乱数を用いて適当なベクトルを作成（-20〜20 の範囲で）\n",
    "random_range = [-20, 20] # 一様乱数の範囲\n",
    "vec = (random_range[1] - random_range[0]) * np.random.rand(eigenvectors.shape[0], n_gen) + random_range[0]\n",
    "\n",
    "# ベクトルから画像を生成\n",
    "gen = generate(vec, mean, eigenvectors)\n",
    "\n",
    "# 生成した画像を表示\n",
    "show_images(gen, shape=(H, W, C), num=n_gen, num_per_row=5, window_name='generated')"
   ]
  },
  {
   "attachments": {},
   "cell_type": "markdown",
   "metadata": {},
   "source": [
    "##### GMM当てはめ処理の実行"
   ]
  },
  {
   "cell_type": "code",
   "execution_count": null,
   "metadata": {},
   "outputs": [],
   "source": [
    "import pickle\n",
    "from sklearn.mixture import GaussianMixture\n",
    "\n",
    "\n",
    "# GMM当てはめを実行\n",
    "print('fitting a GMM to the compressed data ... ')\n",
    "gmm = GaussianMixture(n_components=N_COMPONENTS, covariance_type='spherical')\n",
    "gmm.fit(compressed_data.T)\n",
    "print('done')\n",
    "print('')\n",
    "\n",
    "# 結果をファイルに保存\n",
    "pickle.dump(gmm, open(RESULT_FILE_GMM, 'wb'))"
   ]
  },
  {
   "attachments": {},
   "cell_type": "markdown",
   "metadata": {},
   "source": [
    "##### GMM当てはめ結果ファイルのロード"
   ]
  },
  {
   "cell_type": "code",
   "execution_count": 17,
   "metadata": {},
   "outputs": [],
   "source": [
    "import pickle\n",
    "from sklearn.mixture import GaussianMixture\n",
    "\n",
    "\n",
    "gmm = pickle.load(open(RESULT_FILE_GMM, 'rb'))"
   ]
  },
  {
   "attachments": {},
   "cell_type": "markdown",
   "metadata": {},
   "source": [
    "##### GMMよりサンプリングした圧縮表現（ベクトル）からの画像生成"
   ]
  },
  {
   "cell_type": "code",
   "execution_count": null,
   "metadata": {},
   "outputs": [],
   "source": [
    "from PCA_based.func import show_images, generate\n",
    "\n",
    "\n",
    "# 生成する画像の枚数\n",
    "n_gen = 10\n",
    "\n",
    "# GMMからベクトルをサンプリング\n",
    "vec = np.asarray(gmm.sample(n_samples=n_gen)[0]).T\n",
    "\n",
    "# ベクトルから画像を生成\n",
    "gen = generate(vec, mean, eigenvectors)\n",
    "\n",
    "# 生成した画像を表示\n",
    "show_images(gen, shape=(H, W, C), num=n_gen, num_per_row=5, window_name='generated')"
   ]
  }
 ],
 "metadata": {
  "kernelspec": {
   "display_name": "py39",
   "language": "python",
   "name": "python3"
  },
  "language_info": {
   "codemirror_mode": {
    "name": "ipython",
    "version": 3
   },
   "file_extension": ".py",
   "mimetype": "text/x-python",
   "name": "python",
   "nbconvert_exporter": "python",
   "pygments_lexer": "ipython3",
   "version": "3.9.16"
  },
  "orig_nbformat": 4
 },
 "nbformat": 4,
 "nbformat_minor": 2
}
